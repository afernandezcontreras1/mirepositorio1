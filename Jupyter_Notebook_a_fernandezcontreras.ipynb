{
  "cells": [
    {
      "cell_type": "markdown",
      "metadata": {
        "id": "9c5e64dc-2bc7-4640-9b71-877eda7b6100"
      },
      "source": [
        "<center>\n",
        "    <img src=\"https://cf-courses-data.s3.us.cloud-object-storage.appdomain.cloud/IBMDeveloperSkillsNetwork-DS0105EN-SkillsNetwork/labs/Module2/images/SN_web_lightmode.png\" width=\"300\" alt=\"cognitiveclass.ai logo\">\n",
        "</center>\n"
      ]
    },
    {
      "cell_type": "markdown",
      "metadata": {
        "id": "bca0d27a-24c6-4c43-b116-c73c8d9ab219"
      },
      "source": [
        "# Hands-on Lab: Create your Jupyter Notebook\n"
      ]
    },
    {
      "cell_type": "markdown",
      "metadata": {
        "id": "8b126e2f-912e-42e0-8d57-43862ac465fc"
      },
      "source": [
        "#### Add your code below following the instructions given in the course\n"
      ]
    },
    {
      "cell_type": "markdown",
      "source": [
        "**Jupyter_Notebook_a.fernandezcontreras.ipynb**"
      ],
      "metadata": {
        "id": "ivM0hc_-Ianh"
      }
    },
    {
      "cell_type": "markdown",
      "source": [
        "**Introducción**\n",
        "Este trabajo es el proyecto final del módulo 6 curso 2 de Coursera IBM Universidad Andrés Bello"
      ],
      "metadata": {
        "id": "c741OrbcIjUQ"
      }
    },
    {
      "cell_type": "markdown",
      "source": [
        "Algunos lenguajes de la ciencia de datos son:\n",
        "\n",
        "1. Python\n",
        "2. R\n",
        "3. SQL\n",
        "4. Scala\n",
        "5. Java\n",
        "6. Julia\n"
      ],
      "metadata": {
        "id": "S8Gk52IvIrFp"
      }
    },
    {
      "cell_type": "markdown",
      "source": [
        "Algunas bibliotecas de ciencias de datos son:\n",
        "\n",
        "1. Matplotlib\n",
        "2. Numpy\n",
        "3. Pandas\n",
        "4. Tensorflow\n",
        "5. Keras\n",
        "6. ggplot (R)\n",
        "7. Plotly\n",
        "8. Seaborn"
      ],
      "metadata": {
        "id": "WiW3S4eRJC7k"
      }
    },
    {
      "cell_type": "markdown",
      "source": [
        "Algunas herramientas para la ciencia de datos son:\n",
        "\n",
        "| Herramienta                | Descripción                                  |\n",
        "|----------------------------|----------------------------------------------|\n",
        "| Jupyter Notebook           | Entorno interactivo para la programación y la ciencia de datos  |\n",
        "| RStudio                    | Programar en R       |\n",
        "| Apache Hadoop              | Procesamiento distribuido        |\n",
        "| PowerBI                    | Herramienta de microsoft para el análisis de datos y visualización |\n",
        "\n",
        "\n"
      ],
      "metadata": {
        "id": "4dJUgNfHJYtS"
      }
    },
    {
      "cell_type": "markdown",
      "source": [
        "Algunas expresiones aritméticas, para m y n entes algebraicos, son:\n",
        "\n",
        "La suma:\n",
        "\n",
        "m + n\n",
        "\n",
        "\\\n",
        "\n",
        "La resta:\n",
        "\n",
        "m - n\n",
        "\n",
        "\\\n",
        "\n",
        "La multiplicación:\n",
        "\n",
        "m * n\n",
        "\n",
        "\\\n",
        "\n",
        "La división:\n",
        "\n",
        "m / n\n",
        "\n"
      ],
      "metadata": {
        "id": "alFbBWokJQun"
      }
    },
    {
      "cell_type": "code",
      "metadata": {
        "colab": {
          "base_uri": "https://localhost:8080/"
        },
        "id": "e7ba372f-335a-4836-943b-f9cf0fa309b0",
        "outputId": "220753a2-0579-4adb-95dc-6858e6f3fe30"
      },
      "outputs": [
        {
          "output_type": "stream",
          "name": "stdout",
          "text": [
            "6\n",
            "5\n"
          ]
        }
      ],
      "source": [
        "a = 2\n",
        "b = 3\n",
        "\n",
        "r = a*b\n",
        "print(r)\n",
        "\n",
        "m = 2\n",
        "n = 3\n",
        "\n",
        "s = m + n\n",
        "print(s)"
      ],
      "execution_count": 4
    },
    {
      "cell_type": "code",
      "source": [
        "minutos = 60\n",
        "\n",
        "horas = minutos/60\n",
        "print(horas)"
      ],
      "metadata": {
        "colab": {
          "base_uri": "https://localhost:8080/"
        },
        "id": "NehMfiEvKies",
        "outputId": "95c9f8fc-888c-410d-a337-6593950243e9"
      },
      "execution_count": 5,
      "outputs": [
        {
          "output_type": "stream",
          "name": "stdout",
          "text": [
            "1.0\n"
          ]
        }
      ]
    },
    {
      "cell_type": "code",
      "source": [
        "objetivo1 = 'Este es el objetivo 1'\n",
        "objetivo2 = 'Este es el objetivo 2'\n",
        "\n",
        "print(objetivo1, '|', objetivo2)"
      ],
      "metadata": {
        "colab": {
          "base_uri": "https://localhost:8080/"
        },
        "id": "l5HtpmCIKmrN",
        "outputId": "c9a935d0-f1dd-41a5-fb9c-f692809cab5e"
      },
      "execution_count": 8,
      "outputs": [
        {
          "output_type": "stream",
          "name": "stdout",
          "text": [
            "Este es el objetivo 1 | Este es el objetivo 2\n"
          ]
        }
      ]
    },
    {
      "cell_type": "markdown",
      "source": [
        "**Autor: Álvaro Fernández Contreras**"
      ],
      "metadata": {
        "id": "lBV6ck-jK9Ku"
      }
    },
    {
      "cell_type": "markdown",
      "metadata": {
        "id": "b5f467ed-efe7-45ac-a08b-b2d48c26ba81"
      },
      "source": [
        "Copyright ©2024 IBM Corporation. All rights reserved.\n"
      ]
    }
  ],
  "metadata": {
    "kernelspec": {
      "display_name": "Python",
      "language": "python",
      "name": "conda-env-python-py"
    },
    "language_info": {
      "name": "python",
      "version": "3.7.12",
      "mimetype": "text/x-python",
      "codemirror_mode": {
        "name": "ipython",
        "version": 3
      },
      "pygments_lexer": "ipython3",
      "nbconvert_exporter": "python",
      "file_extension": ".py"
    },
    "prev_pub_hash": "9e1985db9844176462bd1d5863048c9f3d17404bbc6a648be9084b0c42b29347",
    "colab": {
      "provenance": []
    }
  },
  "nbformat": 4,
  "nbformat_minor": 0
}